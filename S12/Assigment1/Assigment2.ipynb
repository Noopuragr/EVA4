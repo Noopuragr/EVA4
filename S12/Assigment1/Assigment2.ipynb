{
  "nbformat": 4,
  "nbformat_minor": 0,
  "metadata": {
    "colab": {
      "name": "Assigment2.ipynb",
      "provenance": [],
      "collapsed_sections": []
    },
    "kernelspec": {
      "name": "python3",
      "display_name": "Python 3"
    }
  },
  "cells": [
    {
      "cell_type": "code",
      "metadata": {
        "id": "WbuS-xPN_Kvq",
        "colab_type": "code",
        "colab": {}
      },
      "source": [
        "import json\n",
        "import pandas as pd\n",
        "\n",
        "with open(\"via_export_coco_dogs.json\",encoding='utf-8', errors='ignore') as json_data:\n",
        "     data = json.load(json_data, strict=False)"
      ],
      "execution_count": 0,
      "outputs": []
    },
    {
      "cell_type": "markdown",
      "metadata": {
        "id": "pTETyofiT1qg",
        "colab_type": "text"
      },
      "source": [
        "Annotated data is downloaded in json format. \n",
        "Each key of json is explained below.\n",
        "\n",
        "\n",
        "*   Info : Contains information about Year, Version, description, date created etc.\n",
        "*   Images : It contains detail about images like: Image height, image width, filename, date_captured.\n",
        "*   Annotation : It contains details about bounding box that we have created using VGG Annotator.\n",
        "        * id\n",
        "        * image id\n",
        "        * segmentation id \n",
        "        * area - Area of bounding box\n",
        "        * bbox - 4 points, [x,y, bbox_width, bbox_height]\n",
        "        * iscrowd - Wether there is single image. iscrowd = 0, or group of image, iscrowd = 1.\n",
        "* License \n",
        "* Category - It has information about the fields we annotated, like class etc. \n",
        "\n"
      ]
    },
    {
      "cell_type": "code",
      "metadata": {
        "id": "LTIvl2brAPbi",
        "colab_type": "code",
        "colab": {}
      },
      "source": [
        "x = pd.DataFrame.from_dict(data['annotations'])\n",
        "y = pd.DataFrame.from_dict(data['images'])"
      ],
      "execution_count": 0,
      "outputs": []
    },
    {
      "cell_type": "code",
      "metadata": {
        "id": "L5PcX0fqEVJB",
        "colab_type": "code",
        "outputId": "40ccfe73-f164-4326-9753-7209611d2a0b",
        "colab": {
          "base_uri": "https://localhost:8080/",
          "height": 110
        }
      },
      "source": [
        "x.head(2)"
      ],
      "execution_count": 26,
      "outputs": [
        {
          "output_type": "execute_result",
          "data": {
            "text/html": [
              "<div>\n",
              "<style scoped>\n",
              "    .dataframe tbody tr th:only-of-type {\n",
              "        vertical-align: middle;\n",
              "    }\n",
              "\n",
              "    .dataframe tbody tr th {\n",
              "        vertical-align: top;\n",
              "    }\n",
              "\n",
              "    .dataframe thead th {\n",
              "        text-align: right;\n",
              "    }\n",
              "</style>\n",
              "<table border=\"1\" class=\"dataframe\">\n",
              "  <thead>\n",
              "    <tr style=\"text-align: right;\">\n",
              "      <th></th>\n",
              "      <th>id</th>\n",
              "      <th>image_id</th>\n",
              "      <th>segmentation</th>\n",
              "      <th>area</th>\n",
              "      <th>bbox</th>\n",
              "      <th>iscrowd</th>\n",
              "    </tr>\n",
              "  </thead>\n",
              "  <tbody>\n",
              "    <tr>\n",
              "      <th>0</th>\n",
              "      <td>0</td>\n",
              "      <td>0</td>\n",
              "      <td>[75, 47, 257, 47, 257, 405, 75, 405]</td>\n",
              "      <td>65156</td>\n",
              "      <td>[75, 47, 182, 358]</td>\n",
              "      <td>0</td>\n",
              "    </tr>\n",
              "    <tr>\n",
              "      <th>1</th>\n",
              "      <td>1</td>\n",
              "      <td>1</td>\n",
              "      <td>[112, 31, 370, 31, 370, 486, 112, 486]</td>\n",
              "      <td>117390</td>\n",
              "      <td>[112, 31, 258, 455]</td>\n",
              "      <td>0</td>\n",
              "    </tr>\n",
              "  </tbody>\n",
              "</table>\n",
              "</div>"
            ],
            "text/plain": [
              "   id image_id  ...                 bbox  iscrowd\n",
              "0   0        0  ...   [75, 47, 182, 358]        0\n",
              "1   1        1  ...  [112, 31, 258, 455]        0\n",
              "\n",
              "[2 rows x 6 columns]"
            ]
          },
          "metadata": {
            "tags": []
          },
          "execution_count": 26
        }
      ]
    },
    {
      "cell_type": "code",
      "metadata": {
        "id": "nRytUke8TcS6",
        "colab_type": "code",
        "outputId": "12afe3e5-73ee-4152-88a7-5c7295a227e3",
        "colab": {
          "base_uri": "https://localhost:8080/",
          "height": 110
        }
      },
      "source": [
        "y.head(2)"
      ],
      "execution_count": 27,
      "outputs": [
        {
          "output_type": "execute_result",
          "data": {
            "text/html": [
              "<div>\n",
              "<style scoped>\n",
              "    .dataframe tbody tr th:only-of-type {\n",
              "        vertical-align: middle;\n",
              "    }\n",
              "\n",
              "    .dataframe tbody tr th {\n",
              "        vertical-align: top;\n",
              "    }\n",
              "\n",
              "    .dataframe thead th {\n",
              "        text-align: right;\n",
              "    }\n",
              "</style>\n",
              "<table border=\"1\" class=\"dataframe\">\n",
              "  <thead>\n",
              "    <tr style=\"text-align: right;\">\n",
              "      <th></th>\n",
              "      <th>id</th>\n",
              "      <th>width</th>\n",
              "      <th>height</th>\n",
              "      <th>file_name</th>\n",
              "      <th>license</th>\n",
              "      <th>date_captured</th>\n",
              "    </tr>\n",
              "  </thead>\n",
              "  <tbody>\n",
              "    <tr>\n",
              "      <th>0</th>\n",
              "      <td>0</td>\n",
              "      <td>300</td>\n",
              "      <td>430</td>\n",
              "      <td>n02085620_199.jpg</td>\n",
              "      <td>1</td>\n",
              "      <td></td>\n",
              "    </tr>\n",
              "    <tr>\n",
              "      <th>1</th>\n",
              "      <td>1</td>\n",
              "      <td>400</td>\n",
              "      <td>500</td>\n",
              "      <td>n02085620_242.jpg</td>\n",
              "      <td>1</td>\n",
              "      <td></td>\n",
              "    </tr>\n",
              "  </tbody>\n",
              "</table>\n",
              "</div>"
            ],
            "text/plain": [
              "   id  width  height          file_name  license date_captured\n",
              "0   0    300     430  n02085620_199.jpg        1              \n",
              "1   1    400     500  n02085620_242.jpg        1              "
            ]
          },
          "metadata": {
            "tags": []
          },
          "execution_count": 27
        }
      ]
    },
    {
      "cell_type": "code",
      "metadata": {
        "id": "odvbvt3ynm_n",
        "colab_type": "code",
        "colab": {}
      },
      "source": [
        "df = y.merge(x, on='id', how='left').drop(columns = ['license','date_captured', 'image_id', 'iscrowd','segmentation','area' ]).rename(columns = {'width':'img_width', 'height':'img_height'})"
      ],
      "execution_count": 0,
      "outputs": []
    },
    {
      "cell_type": "code",
      "metadata": {
        "id": "u0xIfRcjae9u",
        "colab_type": "code",
        "outputId": "58675187-5f48-4869-8957-adbf4c6d53eb",
        "colab": {
          "base_uri": "https://localhost:8080/",
          "height": 110
        }
      },
      "source": [
        "df.head(2)"
      ],
      "execution_count": 29,
      "outputs": [
        {
          "output_type": "execute_result",
          "data": {
            "text/html": [
              "<div>\n",
              "<style scoped>\n",
              "    .dataframe tbody tr th:only-of-type {\n",
              "        vertical-align: middle;\n",
              "    }\n",
              "\n",
              "    .dataframe tbody tr th {\n",
              "        vertical-align: top;\n",
              "    }\n",
              "\n",
              "    .dataframe thead th {\n",
              "        text-align: right;\n",
              "    }\n",
              "</style>\n",
              "<table border=\"1\" class=\"dataframe\">\n",
              "  <thead>\n",
              "    <tr style=\"text-align: right;\">\n",
              "      <th></th>\n",
              "      <th>id</th>\n",
              "      <th>img_width</th>\n",
              "      <th>img_height</th>\n",
              "      <th>file_name</th>\n",
              "      <th>bbox</th>\n",
              "    </tr>\n",
              "  </thead>\n",
              "  <tbody>\n",
              "    <tr>\n",
              "      <th>0</th>\n",
              "      <td>0</td>\n",
              "      <td>300</td>\n",
              "      <td>430</td>\n",
              "      <td>n02085620_199.jpg</td>\n",
              "      <td>[75, 47, 182, 358]</td>\n",
              "    </tr>\n",
              "    <tr>\n",
              "      <th>1</th>\n",
              "      <td>1</td>\n",
              "      <td>400</td>\n",
              "      <td>500</td>\n",
              "      <td>n02085620_242.jpg</td>\n",
              "      <td>[112, 31, 258, 455]</td>\n",
              "    </tr>\n",
              "  </tbody>\n",
              "</table>\n",
              "</div>"
            ],
            "text/plain": [
              "   id  img_width  img_height          file_name                 bbox\n",
              "0   0        300         430  n02085620_199.jpg   [75, 47, 182, 358]\n",
              "1   1        400         500  n02085620_242.jpg  [112, 31, 258, 455]"
            ]
          },
          "metadata": {
            "tags": []
          },
          "execution_count": 29
        }
      ]
    },
    {
      "cell_type": "code",
      "metadata": {
        "id": "7tGUkHZKonkW",
        "colab_type": "code",
        "colab": {}
      },
      "source": [
        "width = []\n",
        "height = []\n",
        "x = []\n",
        "y = []\n",
        "for i in range(0,len(df)):\n",
        "    x.append(df['bbox'][i][0])\n",
        "    y.append(df['bbox'][i][1])\n",
        "    width.append(df['bbox'][i][2])\n",
        "    height.append(df['bbox'][i][3])\n",
        "df['x'], df['y'],df['bbox_width'], df['bbox_height'] = x, y, width, height"
      ],
      "execution_count": 0,
      "outputs": []
    },
    {
      "cell_type": "code",
      "metadata": {
        "id": "AOypmGZ4rJ3p",
        "colab_type": "code",
        "colab": {}
      },
      "source": [
        "# Normalized image\n",
        "\n",
        "df['Norm_bbox_width'], df['Norm_bbox_height'] = df['bbox_width']/df['img_width'], df['bbox_height']/df['img_height']\n",
        "\n",
        "df['Norm_x'], df['Norm_y'] = df['x']/df['img_width'], df['y']/df['img_height']"
      ],
      "execution_count": 0,
      "outputs": []
    },
    {
      "cell_type": "code",
      "metadata": {
        "id": "30k97PESu7pd",
        "colab_type": "code",
        "colab": {}
      },
      "source": [
        "new_df = df[['file_name', 'Norm_bbox_width', 'Norm_bbox_height',\n",
        "       'Norm_x', 'Norm_y' ]]"
      ],
      "execution_count": 0,
      "outputs": []
    },
    {
      "cell_type": "code",
      "metadata": {
        "id": "5kX4bi_xvDPJ",
        "colab_type": "code",
        "outputId": "dbdfef4a-df4f-4af6-a015-a533d07b35cf",
        "colab": {
          "base_uri": "https://localhost:8080/",
          "height": 110
        }
      },
      "source": [
        "new_df.head(2)"
      ],
      "execution_count": 33,
      "outputs": [
        {
          "output_type": "execute_result",
          "data": {
            "text/html": [
              "<div>\n",
              "<style scoped>\n",
              "    .dataframe tbody tr th:only-of-type {\n",
              "        vertical-align: middle;\n",
              "    }\n",
              "\n",
              "    .dataframe tbody tr th {\n",
              "        vertical-align: top;\n",
              "    }\n",
              "\n",
              "    .dataframe thead th {\n",
              "        text-align: right;\n",
              "    }\n",
              "</style>\n",
              "<table border=\"1\" class=\"dataframe\">\n",
              "  <thead>\n",
              "    <tr style=\"text-align: right;\">\n",
              "      <th></th>\n",
              "      <th>file_name</th>\n",
              "      <th>Norm_bbox_width</th>\n",
              "      <th>Norm_bbox_height</th>\n",
              "      <th>Norm_x</th>\n",
              "      <th>Norm_y</th>\n",
              "    </tr>\n",
              "  </thead>\n",
              "  <tbody>\n",
              "    <tr>\n",
              "      <th>0</th>\n",
              "      <td>n02085620_199.jpg</td>\n",
              "      <td>0.606667</td>\n",
              "      <td>0.832558</td>\n",
              "      <td>0.25</td>\n",
              "      <td>0.109302</td>\n",
              "    </tr>\n",
              "    <tr>\n",
              "      <th>1</th>\n",
              "      <td>n02085620_242.jpg</td>\n",
              "      <td>0.645000</td>\n",
              "      <td>0.910000</td>\n",
              "      <td>0.28</td>\n",
              "      <td>0.062000</td>\n",
              "    </tr>\n",
              "  </tbody>\n",
              "</table>\n",
              "</div>"
            ],
            "text/plain": [
              "           file_name  Norm_bbox_width  Norm_bbox_height  Norm_x    Norm_y\n",
              "0  n02085620_199.jpg         0.606667          0.832558    0.25  0.109302\n",
              "1  n02085620_242.jpg         0.645000          0.910000    0.28  0.062000"
            ]
          },
          "metadata": {
            "tags": []
          },
          "execution_count": 33
        }
      ]
    },
    {
      "cell_type": "markdown",
      "metadata": {
        "id": "x_OaWsOXS0GP",
        "colab_type": "text"
      },
      "source": [
        "Using Elbow Method"
      ]
    },
    {
      "cell_type": "code",
      "metadata": {
        "id": "SX36vK3Uxggj",
        "colab_type": "code",
        "outputId": "7d650015-4389-44ac-b2d4-c503d23f3ccb",
        "colab": {
          "base_uri": "https://localhost:8080/",
          "height": 295
        }
      },
      "source": [
        "kmeans_data = new_df.iloc[:,[1,2]].values\n",
        "\n",
        "from sklearn.cluster import KMeans\n",
        "\n",
        "import numpy as np\n",
        "import matplotlib.pyplot as plt\n",
        "import pandas as pd\n",
        "\n",
        "wcss=[]\n",
        "\n",
        "for i in range(1,11):\n",
        "  kmeans = KMeans(n_clusters=i,init='k-means++',max_iter = 300,n_init=10,random_state=0)\n",
        "  kmeans.fit(kmeans_data)\n",
        "  wcss.append(kmeans.inertia_)\n",
        "\n",
        "plt.plot(range(1,11),wcss)\n",
        "plt.xlabel(\"Number of clusters\")\n",
        "plt.ylabel(\"wcss\")\n",
        "plt.title(\"Elbow Method\")\n",
        "plt.show()"
      ],
      "execution_count": 34,
      "outputs": [
        {
          "output_type": "display_data",
          "data": {
            "image/png": "[encoded data removed]",
            "text/plain": [
              "<Figure size 432x288 with 1 Axes>"
            ]
          },
          "metadata": {
            "tags": [],
            "needs_background": "light"
          }
        }
      ]
    },
    {
      "cell_type": "markdown",
      "metadata": {
        "id": "szJvgj4sS46N",
        "colab_type": "text"
      },
      "source": [
        "Performing K-Means"
      ]
    },
    {
      "cell_type": "code",
      "metadata": {
        "id": "4xjKyopIxmlZ",
        "colab_type": "code",
        "colab": {}
      },
      "source": [
        "\n",
        "kmeans=KMeans(n_clusters=2,init='k-means++',max_iter = 300,n_init=10,random_state=0)\n",
        "\n",
        "y_kmeans=kmeans.fit_predict(kmeans_data)"
      ],
      "execution_count": 0,
      "outputs": []
    },
    {
      "cell_type": "code",
      "metadata": {
        "id": "okz83YZBx0we",
        "colab_type": "code",
        "outputId": "5d296d95-aaac-40e6-dfb9-bf0fbb11963f",
        "colab": {
          "base_uri": "https://localhost:8080/",
          "height": 295
        }
      },
      "source": [
        "plt.scatter(kmeans_data[y_kmeans==0, 0], kmeans_data[y_kmeans ==0, 1], s=100, c='red', label = 'Cluster1')\n",
        "plt.scatter(kmeans_data[y_kmeans==1, 0], kmeans_data[y_kmeans ==1, 1], s=100, c='blue', label = 'Cluster2')\n",
        "plt.scatter(kmeans.cluster_centers_[:, 0], kmeans.cluster_centers_[:, 1], s=300, c='yellow', label = 'Centroids') \n",
        "plt.title('Cluster of images')\n",
        "plt.xlabel('width')\n",
        "plt.ylabel ('Height')\n",
        "plt.legend()\n",
        "plt.show()"
      ],
      "execution_count": 38,
      "outputs": [
        {
          "output_type": "display_data",
          "data": {
            "image/png": "[encoded data removed]",
            "text/plain": [
              "<Figure size 432x288 with 1 Axes>"
            ]
          },
          "metadata": {
            "tags": [],
            "needs_background": "light"
          }
        }
      ]
    }
  ]
}